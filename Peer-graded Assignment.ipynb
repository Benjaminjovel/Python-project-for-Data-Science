{
 "cells": [
  {
   "cell_type": "code",
   "execution_count": 1,
   "id": "f7cae44b-9dbb-4020-bb90-1349085db281",
   "metadata": {},
   "outputs": [
    {
     "name": "stdout",
     "output_type": "stream",
     "text": [
      "Collecting yfinance\n",
      "  Downloading yfinance-0.2.14-py2.py3-none-any.whl (59 kB)\n",
      "\u001b[2K     \u001b[90m━━━━━━━━━━━━━━━━━━━━━━━━━━━━━━━━━━━━━━━━\u001b[0m \u001b[32m59.7/59.7 kB\u001b[0m \u001b[31m6.2 MB/s\u001b[0m eta \u001b[36m0:00:00\u001b[0m\n",
      "\u001b[?25hRequirement already satisfied: cryptography>=3.3.2 in /home/jupyterlab/conda/envs/python/lib/python3.7/site-packages (from yfinance) (38.0.2)\n",
      "Requirement already satisfied: pytz>=2022.5 in /home/jupyterlab/conda/envs/python/lib/python3.7/site-packages (from yfinance) (2022.6)\n",
      "Collecting appdirs>=1.4.4\n",
      "  Downloading appdirs-1.4.4-py2.py3-none-any.whl (9.6 kB)\n",
      "Collecting html5lib>=1.1\n",
      "  Downloading html5lib-1.1-py2.py3-none-any.whl (112 kB)\n",
      "\u001b[2K     \u001b[90m━━━━━━━━━━━━━━━━━━━━━━━━━━━━━━━━━━━━━━\u001b[0m \u001b[32m112.2/112.2 kB\u001b[0m \u001b[31m16.1 MB/s\u001b[0m eta \u001b[36m0:00:00\u001b[0m\n",
      "\u001b[?25hRequirement already satisfied: beautifulsoup4>=4.11.1 in /home/jupyterlab/conda/envs/python/lib/python3.7/site-packages (from yfinance) (4.11.1)\n",
      "Collecting frozendict>=2.3.4\n",
      "  Downloading frozendict-2.3.6-cp37-cp37m-manylinux_2_17_x86_64.manylinux2014_x86_64.whl (101 kB)\n",
      "\u001b[2K     \u001b[90m━━━━━━━━━━━━━━━━━━━━━━━━━━━━━━━━━━━━━━\u001b[0m \u001b[32m101.2/101.2 kB\u001b[0m \u001b[31m14.3 MB/s\u001b[0m eta \u001b[36m0:00:00\u001b[0m\n",
      "\u001b[?25hCollecting multitasking>=0.0.7\n",
      "  Downloading multitasking-0.0.11-py3-none-any.whl (8.5 kB)\n",
      "Requirement already satisfied: lxml>=4.9.1 in /home/jupyterlab/conda/envs/python/lib/python3.7/site-packages (from yfinance) (4.9.1)\n",
      "Requirement already satisfied: numpy>=1.16.5 in /home/jupyterlab/conda/envs/python/lib/python3.7/site-packages (from yfinance) (1.21.6)\n",
      "Requirement already satisfied: pandas>=1.3.0 in /home/jupyterlab/conda/envs/python/lib/python3.7/site-packages (from yfinance) (1.3.5)\n",
      "Requirement already satisfied: requests>=2.26 in /home/jupyterlab/conda/envs/python/lib/python3.7/site-packages (from yfinance) (2.28.1)\n",
      "Requirement already satisfied: soupsieve>1.2 in /home/jupyterlab/conda/envs/python/lib/python3.7/site-packages (from beautifulsoup4>=4.11.1->yfinance) (2.3.2.post1)\n",
      "Requirement already satisfied: cffi>=1.12 in /home/jupyterlab/conda/envs/python/lib/python3.7/site-packages (from cryptography>=3.3.2->yfinance) (1.15.1)\n",
      "Requirement already satisfied: webencodings in /home/jupyterlab/conda/envs/python/lib/python3.7/site-packages (from html5lib>=1.1->yfinance) (0.5.1)\n",
      "Requirement already satisfied: six>=1.9 in /home/jupyterlab/conda/envs/python/lib/python3.7/site-packages (from html5lib>=1.1->yfinance) (1.16.0)\n",
      "Requirement already satisfied: python-dateutil>=2.7.3 in /home/jupyterlab/conda/envs/python/lib/python3.7/site-packages (from pandas>=1.3.0->yfinance) (2.8.2)\n",
      "Requirement already satisfied: charset-normalizer<3,>=2 in /home/jupyterlab/conda/envs/python/lib/python3.7/site-packages (from requests>=2.26->yfinance) (2.1.1)\n",
      "Requirement already satisfied: certifi>=2017.4.17 in /home/jupyterlab/conda/envs/python/lib/python3.7/site-packages (from requests>=2.26->yfinance) (2022.9.24)\n",
      "Requirement already satisfied: urllib3<1.27,>=1.21.1 in /home/jupyterlab/conda/envs/python/lib/python3.7/site-packages (from requests>=2.26->yfinance) (1.26.13)\n",
      "Requirement already satisfied: idna<4,>=2.5 in /home/jupyterlab/conda/envs/python/lib/python3.7/site-packages (from requests>=2.26->yfinance) (3.4)\n",
      "Requirement already satisfied: pycparser in /home/jupyterlab/conda/envs/python/lib/python3.7/site-packages (from cffi>=1.12->cryptography>=3.3.2->yfinance) (2.21)\n",
      "Installing collected packages: multitasking, appdirs, html5lib, frozendict, yfinance\n",
      "Successfully installed appdirs-1.4.4 frozendict-2.3.6 html5lib-1.1 multitasking-0.0.11 yfinance-0.2.14\n",
      "Collecting bs4\n",
      "  Downloading bs4-0.0.1.tar.gz (1.1 kB)\n",
      "  Preparing metadata (setup.py) ... \u001b[?25ldone\n",
      "\u001b[?25hRequirement already satisfied: beautifulsoup4 in /home/jupyterlab/conda/envs/python/lib/python3.7/site-packages (from bs4) (4.11.1)\n",
      "Requirement already satisfied: soupsieve>1.2 in /home/jupyterlab/conda/envs/python/lib/python3.7/site-packages (from beautifulsoup4->bs4) (2.3.2.post1)\n",
      "Building wheels for collected packages: bs4\n",
      "  Building wheel for bs4 (setup.py) ... \u001b[?25ldone\n",
      "\u001b[?25h  Created wheel for bs4: filename=bs4-0.0.1-py3-none-any.whl size=1256 sha256=62707028d1e2d7bc0cee3f562acd978376546152aa99ce84105fcd040491e752\n",
      "  Stored in directory: /home/jupyterlab/.cache/pip/wheels/77/8a/04/7b1a8ce5de6555a18e09370d3d4fde48be9571ac07a623071e\n",
      "Successfully built bs4\n",
      "Installing collected packages: bs4\n",
      "Successfully installed bs4-0.0.1\n"
     ]
    }
   ],
   "source": [
    "!pip install yfinance\n",
    "#!pip install pandas\n",
    "#!pip install requests\n",
    "!pip install bs4\n",
    "#!pip install plotly"
   ]
  },
  {
   "cell_type": "code",
   "execution_count": 2,
   "id": "6b6ff801-a8fa-4be6-b8c2-60287424fac4",
   "metadata": {},
   "outputs": [],
   "source": [
    "import yfinance as yf\n",
    "import pandas as pd\n",
    "import requests\n",
    "from bs4 import BeautifulSoup\n",
    "import plotly.graph_objects as go\n",
    "from plotly.subplots import make_subplots"
   ]
  },
  {
   "cell_type": "markdown",
   "id": "ff4a401a-f13a-4dc1-b12f-23ef050fd9ac",
   "metadata": {},
   "source": [
    "Question 2 - Extracting Tesla Revenue Data Using Webscraping"
   ]
  },
  {
   "cell_type": "code",
   "execution_count": 3,
   "id": "d2f08e72-7ecf-4c7e-a31c-b0f79e668ca8",
   "metadata": {},
   "outputs": [],
   "source": [
    "# Display the last five rows of the tesla_revenue dataframe using the tail function. Upload a screenshot of the results.\n",
    "\n",
    "url= \"https://www.macrotrends.net/stocks/charts/TSLA/tesla/revenue\"\n",
    "html_data=requests.get(url).text"
   ]
  },
  {
   "cell_type": "code",
   "execution_count": 4,
   "id": "dfe02076-640e-4805-a3d1-10519ac2f649",
   "metadata": {},
   "outputs": [],
   "source": [
    "soup = BeautifulSoup(html_data,\"html5lib\")"
   ]
  },
  {
   "cell_type": "code",
   "execution_count": 6,
   "id": "1b6f83b1-5635-47f1-8c93-0fdf20751aff",
   "metadata": {},
   "outputs": [
    {
     "name": "stderr",
     "output_type": "stream",
     "text": [
      "/home/jupyterlab/conda/envs/python/lib/python3.7/site-packages/ipykernel_launcher.py:3: FutureWarning: The default value of regex will change from True to False in a future version. In addition, single character regular expressions will *not* be treated as literal strings when regex=True.\n",
      "  This is separate from the ipykernel package so we can avoid doing imports until\n"
     ]
    },
    {
     "data": {
      "text/html": [
       "<div>\n",
       "<style scoped>\n",
       "    .dataframe tbody tr th:only-of-type {\n",
       "        vertical-align: middle;\n",
       "    }\n",
       "\n",
       "    .dataframe tbody tr th {\n",
       "        vertical-align: top;\n",
       "    }\n",
       "\n",
       "    .dataframe thead th {\n",
       "        text-align: right;\n",
       "    }\n",
       "</style>\n",
       "<table border=\"1\" class=\"dataframe\">\n",
       "  <thead>\n",
       "    <tr style=\"text-align: right;\">\n",
       "      <th></th>\n",
       "      <th>Date</th>\n",
       "      <th>Revenue</th>\n",
       "    </tr>\n",
       "  </thead>\n",
       "  <tbody>\n",
       "    <tr>\n",
       "      <th>50</th>\n",
       "      <td>2010-06-30</td>\n",
       "      <td>28</td>\n",
       "    </tr>\n",
       "    <tr>\n",
       "      <th>51</th>\n",
       "      <td>2010-03-31</td>\n",
       "      <td>21</td>\n",
       "    </tr>\n",
       "    <tr>\n",
       "      <th>52</th>\n",
       "      <td>2009-12-31</td>\n",
       "      <td>NaN</td>\n",
       "    </tr>\n",
       "    <tr>\n",
       "      <th>53</th>\n",
       "      <td>2009-09-30</td>\n",
       "      <td>46</td>\n",
       "    </tr>\n",
       "    <tr>\n",
       "      <th>54</th>\n",
       "      <td>2009-06-30</td>\n",
       "      <td>27</td>\n",
       "    </tr>\n",
       "  </tbody>\n",
       "</table>\n",
       "</div>"
      ],
      "text/plain": [
       "          Date Revenue\n",
       "50  2010-06-30      28\n",
       "51  2010-03-31      21\n",
       "52  2009-12-31     NaN\n",
       "53  2009-09-30      46\n",
       "54  2009-06-30      27"
      ]
     },
     "execution_count": 6,
     "metadata": {},
     "output_type": "execute_result"
    }
   ],
   "source": [
    "tesla_revenue= pd.read_html(url, match=\"Tesla Quarterly Revenue\", flavor='bs4')[0]\n",
    "tesla_revenue=tesla_revenue.rename(columns = {'Tesla Quarterly Revenue(Millions of US $)': 'Date', 'Tesla Quarterly Revenue(Millions of US $).1': 'Revenue'}, inplace = False)\n",
    "tesla_revenue[\"Revenue\"] = tesla_revenue[\"Revenue\"].str.replace(\",\",\"\").str.replace(\"$\",\"\")\n",
    "tesla_revenue.tail()"
   ]
  },
  {
   "cell_type": "markdown",
   "id": "ea08c49d-8cb1-4149-992d-80ce8a0253d4",
   "metadata": {},
   "source": [
    "Question 3: Use yfinance to Extract Stock Data"
   ]
  },
  {
   "cell_type": "code",
   "execution_count": 7,
   "id": "033b424d-172b-4618-b9ec-f96e720e0498",
   "metadata": {},
   "outputs": [],
   "source": [
    "gamestop = yf.Ticker(\"GME\")"
   ]
  },
  {
   "cell_type": "code",
   "execution_count": 8,
   "id": "87e9db26-895a-424e-997b-bd05946606dd",
   "metadata": {},
   "outputs": [],
   "source": [
    "gme_data=gamestop.history(period=\"max\")"
   ]
  },
  {
   "cell_type": "code",
   "execution_count": 10,
   "id": "d39df1fd-bb37-4a95-8c0b-6da982051006",
   "metadata": {},
   "outputs": [
    {
     "data": {
      "text/html": [
       "<div>\n",
       "<style scoped>\n",
       "    .dataframe tbody tr th:only-of-type {\n",
       "        vertical-align: middle;\n",
       "    }\n",
       "\n",
       "    .dataframe tbody tr th {\n",
       "        vertical-align: top;\n",
       "    }\n",
       "\n",
       "    .dataframe thead th {\n",
       "        text-align: right;\n",
       "    }\n",
       "</style>\n",
       "<table border=\"1\" class=\"dataframe\">\n",
       "  <thead>\n",
       "    <tr style=\"text-align: right;\">\n",
       "      <th></th>\n",
       "      <th>index</th>\n",
       "      <th>Date</th>\n",
       "      <th>Open</th>\n",
       "      <th>High</th>\n",
       "      <th>Low</th>\n",
       "      <th>Close</th>\n",
       "      <th>Volume</th>\n",
       "      <th>Dividends</th>\n",
       "      <th>Stock Splits</th>\n",
       "    </tr>\n",
       "  </thead>\n",
       "  <tbody>\n",
       "    <tr>\n",
       "      <th>0</th>\n",
       "      <td>0</td>\n",
       "      <td>2002-02-13 00:00:00-05:00</td>\n",
       "      <td>1.620128</td>\n",
       "      <td>1.693350</td>\n",
       "      <td>1.603296</td>\n",
       "      <td>1.691666</td>\n",
       "      <td>76216000</td>\n",
       "      <td>0.0</td>\n",
       "      <td>0.0</td>\n",
       "    </tr>\n",
       "    <tr>\n",
       "      <th>1</th>\n",
       "      <td>1</td>\n",
       "      <td>2002-02-14 00:00:00-05:00</td>\n",
       "      <td>1.712707</td>\n",
       "      <td>1.716074</td>\n",
       "      <td>1.670626</td>\n",
       "      <td>1.683250</td>\n",
       "      <td>11021600</td>\n",
       "      <td>0.0</td>\n",
       "      <td>0.0</td>\n",
       "    </tr>\n",
       "    <tr>\n",
       "      <th>2</th>\n",
       "      <td>2</td>\n",
       "      <td>2002-02-15 00:00:00-05:00</td>\n",
       "      <td>1.683250</td>\n",
       "      <td>1.687458</td>\n",
       "      <td>1.658002</td>\n",
       "      <td>1.674834</td>\n",
       "      <td>8389600</td>\n",
       "      <td>0.0</td>\n",
       "      <td>0.0</td>\n",
       "    </tr>\n",
       "    <tr>\n",
       "      <th>3</th>\n",
       "      <td>3</td>\n",
       "      <td>2002-02-19 00:00:00-05:00</td>\n",
       "      <td>1.666417</td>\n",
       "      <td>1.666417</td>\n",
       "      <td>1.578047</td>\n",
       "      <td>1.607504</td>\n",
       "      <td>7410400</td>\n",
       "      <td>0.0</td>\n",
       "      <td>0.0</td>\n",
       "    </tr>\n",
       "    <tr>\n",
       "      <th>4</th>\n",
       "      <td>4</td>\n",
       "      <td>2002-02-20 00:00:00-05:00</td>\n",
       "      <td>1.615921</td>\n",
       "      <td>1.662210</td>\n",
       "      <td>1.603296</td>\n",
       "      <td>1.662210</td>\n",
       "      <td>6892800</td>\n",
       "      <td>0.0</td>\n",
       "      <td>0.0</td>\n",
       "    </tr>\n",
       "  </tbody>\n",
       "</table>\n",
       "</div>"
      ],
      "text/plain": [
       "   index                      Date      Open      High       Low     Close  \\\n",
       "0      0 2002-02-13 00:00:00-05:00  1.620128  1.693350  1.603296  1.691666   \n",
       "1      1 2002-02-14 00:00:00-05:00  1.712707  1.716074  1.670626  1.683250   \n",
       "2      2 2002-02-15 00:00:00-05:00  1.683250  1.687458  1.658002  1.674834   \n",
       "3      3 2002-02-19 00:00:00-05:00  1.666417  1.666417  1.578047  1.607504   \n",
       "4      4 2002-02-20 00:00:00-05:00  1.615921  1.662210  1.603296  1.662210   \n",
       "\n",
       "     Volume  Dividends  Stock Splits  \n",
       "0  76216000        0.0           0.0  \n",
       "1  11021600        0.0           0.0  \n",
       "2   8389600        0.0           0.0  \n",
       "3   7410400        0.0           0.0  \n",
       "4   6892800        0.0           0.0  "
      ]
     },
     "execution_count": 10,
     "metadata": {},
     "output_type": "execute_result"
    }
   ],
   "source": [
    "gme_data.reset_index(inplace=True)\n",
    "gme_data.head()"
   ]
  },
  {
   "cell_type": "markdown",
   "id": "d7f7a3c5-6ebb-4fb7-9fd1-13820128f392",
   "metadata": {},
   "source": [
    "Question 4: Use Webscraping to Extract GME Revenue Data"
   ]
  },
  {
   "cell_type": "code",
   "execution_count": 11,
   "id": "89158bde-e98f-4f20-bafc-2eeb1c254330",
   "metadata": {},
   "outputs": [],
   "source": [
    "url=\"https://www.macrotrends.net/stocks/charts/GME/gamestop/revenue\"\n",
    "html_data=requests.get(url).text"
   ]
  },
  {
   "cell_type": "code",
   "execution_count": 12,
   "id": "114735d4-60a4-400a-aca3-856ee779c24e",
   "metadata": {},
   "outputs": [],
   "source": [
    "soup = BeautifulSoup(html_data,\"html5lib\")"
   ]
  },
  {
   "cell_type": "code",
   "execution_count": 13,
   "id": "1b641f9b-f361-4291-9477-08ddb80826dc",
   "metadata": {},
   "outputs": [
    {
     "name": "stderr",
     "output_type": "stream",
     "text": [
      "/home/jupyterlab/conda/envs/python/lib/python3.7/site-packages/ipykernel_launcher.py:3: FutureWarning: The default value of regex will change from True to False in a future version. In addition, single character regular expressions will *not* be treated as literal strings when regex=True.\n",
      "  This is separate from the ipykernel package so we can avoid doing imports until\n"
     ]
    }
   ],
   "source": [
    "gme_revenue= pd.read_html(url, match=\"GameStop Quarterly Revenue\", flavor='bs4')[0]\n",
    "gme_revenue=gme_revenue.rename(columns = {'GameStop Quarterly Revenue(Millions of US $)': 'Date', 'GameStop Quarterly Revenue(Millions of US $).1': 'Revenue'}, inplace = False)\n",
    "gme_revenue[\"Revenue\"] = gme_revenue[\"Revenue\"].str.replace(\",\",\"\").str.replace(\"$\",\"\")"
   ]
  },
  {
   "cell_type": "code",
   "execution_count": 15,
   "id": "2971da45-053e-415f-8479-9e7ee9d17212",
   "metadata": {},
   "outputs": [
    {
     "data": {
      "text/html": [
       "<div>\n",
       "<style scoped>\n",
       "    .dataframe tbody tr th:only-of-type {\n",
       "        vertical-align: middle;\n",
       "    }\n",
       "\n",
       "    .dataframe tbody tr th {\n",
       "        vertical-align: top;\n",
       "    }\n",
       "\n",
       "    .dataframe thead th {\n",
       "        text-align: right;\n",
       "    }\n",
       "</style>\n",
       "<table border=\"1\" class=\"dataframe\">\n",
       "  <thead>\n",
       "    <tr style=\"text-align: right;\">\n",
       "      <th></th>\n",
       "      <th>Date</th>\n",
       "      <th>Revenue</th>\n",
       "    </tr>\n",
       "  </thead>\n",
       "  <tbody>\n",
       "    <tr>\n",
       "      <th>52</th>\n",
       "      <td>2010-01-31</td>\n",
       "      <td>3524</td>\n",
       "    </tr>\n",
       "    <tr>\n",
       "      <th>53</th>\n",
       "      <td>2009-10-31</td>\n",
       "      <td>1835</td>\n",
       "    </tr>\n",
       "    <tr>\n",
       "      <th>54</th>\n",
       "      <td>2009-07-31</td>\n",
       "      <td>1739</td>\n",
       "    </tr>\n",
       "    <tr>\n",
       "      <th>55</th>\n",
       "      <td>2009-04-30</td>\n",
       "      <td>1981</td>\n",
       "    </tr>\n",
       "    <tr>\n",
       "      <th>56</th>\n",
       "      <td>2009-01-31</td>\n",
       "      <td>3492</td>\n",
       "    </tr>\n",
       "  </tbody>\n",
       "</table>\n",
       "</div>"
      ],
      "text/plain": [
       "          Date Revenue\n",
       "52  2010-01-31    3524\n",
       "53  2009-10-31    1835\n",
       "54  2009-07-31    1739\n",
       "55  2009-04-30    1981\n",
       "56  2009-01-31    3492"
      ]
     },
     "execution_count": 15,
     "metadata": {},
     "output_type": "execute_result"
    }
   ],
   "source": [
    "gme_revenue.dropna(inplace=True)\n",
    "gme_revenue.tail()"
   ]
  },
  {
   "cell_type": "markdown",
   "id": "3593e849-7e85-4414-9aec-cfd846439d7c",
   "metadata": {},
   "source": [
    "Question 5: Plot Tesla Stock Graph\n"
   ]
  },
  {
   "cell_type": "markdown",
   "id": "c96a83c5-56a1-4c12-a808-cfcec1f5829a",
   "metadata": {},
   "source": [
    "Use the make_graph function to graph the Tesla Stock Data, also provide a title for the graph. The structure to call the make_graph function is make_graph(tesla_data, tesla_revenue, 'Tesla')"
   ]
  },
  {
   "cell_type": "code",
   "execution_count": null,
   "id": "fde314dd-238e-4e4d-8987-6478a9ddd957",
   "metadata": {},
   "outputs": [],
   "source": [
    "make_graph(tesla_data, tesla_revenue, 'Tesla Stock Data Graph')"
   ]
  },
  {
   "cell_type": "markdown",
   "id": "fa3623ce-180d-4a93-a7ca-26b36750a048",
   "metadata": {},
   "source": [
    "Question 6: Plot GameStop Stock Graph"
   ]
  },
  {
   "cell_type": "markdown",
   "id": "d4659ec3-3275-4df2-acca-bde0e61d8bdf",
   "metadata": {},
   "source": [
    "Use the make_graph function to graph the GameStop Stock Data, also provide a title for the graph. The structure to call the make_graph function is make_graph(gme_data, gme_revenue, 'GameStop')."
   ]
  },
  {
   "cell_type": "code",
   "execution_count": null,
   "id": "1d0992a9-e7db-4382-9916-d3f584614991",
   "metadata": {},
   "outputs": [],
   "source": [
    "make_graph(gme_data, gme_revenue, 'GameStop Stock Data Graph')"
   ]
  }
 ],
 "metadata": {
  "kernelspec": {
   "display_name": "Python",
   "language": "python",
   "name": "conda-env-python-py"
  },
  "language_info": {
   "codemirror_mode": {
    "name": "ipython",
    "version": 3
   },
   "file_extension": ".py",
   "mimetype": "text/x-python",
   "name": "python",
   "nbconvert_exporter": "python",
   "pygments_lexer": "ipython3",
   "version": "3.7.12"
  }
 },
 "nbformat": 4,
 "nbformat_minor": 5
}
